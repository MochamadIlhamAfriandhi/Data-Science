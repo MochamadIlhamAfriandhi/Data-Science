{
 "cells": [
  {
   "cell_type": "markdown",
   "metadata": {},
   "source": [
    "# STAR SCHEMA"
   ]
  },
  {
   "cell_type": "code",
   "execution_count": 17,
   "metadata": {
    "scrolled": true
   },
   "outputs": [],
   "source": [
    "import os\n",
    "import mysql.connector\n",
    "import pandas as pd\n",
    "import numpy as np\n",
    "import matplotlib.pyplot as plt\n",
    "import seaborn as sns\n",
    "%matplotlib inline"
   ]
  },
  {
   "cell_type": "code",
   "execution_count": 22,
   "metadata": {},
   "outputs": [],
   "source": [
    "connection = mysql.connector.connect(host = 'localhost',\n",
    "                                    user = 'root',\n",
    "                                    passwd = '',\n",
    "                                    db = 'perpustakaan')"
   ]
  },
  {
   "cell_type": "code",
   "execution_count": 23,
   "metadata": {},
   "outputs": [
    {
     "data": {
      "text/plain": [
       "<mysql.connector.connection.MySQLConnection at 0x94758e0>"
      ]
     },
     "execution_count": 23,
     "metadata": {},
     "output_type": "execute_result"
    }
   ],
   "source": [
    "connection"
   ]
  },
  {
   "cell_type": "code",
   "execution_count": 53,
   "metadata": {},
   "outputs": [
    {
     "data": {
      "text/html": [
       "<div>\n",
       "<style scoped>\n",
       "    .dataframe tbody tr th:only-of-type {\n",
       "        vertical-align: middle;\n",
       "    }\n",
       "\n",
       "    .dataframe tbody tr th {\n",
       "        vertical-align: top;\n",
       "    }\n",
       "\n",
       "    .dataframe thead th {\n",
       "        text-align: right;\n",
       "    }\n",
       "</style>\n",
       "<table border=\"1\" class=\"dataframe\">\n",
       "  <thead>\n",
       "    <tr style=\"text-align: right;\">\n",
       "      <th></th>\n",
       "      <th>Tables_in_perpustakaan</th>\n",
       "    </tr>\n",
       "  </thead>\n",
       "  <tbody>\n",
       "    <tr>\n",
       "      <th>0</th>\n",
       "      <td>data_buku</td>\n",
       "    </tr>\n",
       "    <tr>\n",
       "      <th>1</th>\n",
       "      <td>data_pegawai</td>\n",
       "    </tr>\n",
       "    <tr>\n",
       "      <th>2</th>\n",
       "      <td>data_peminjam</td>\n",
       "    </tr>\n",
       "    <tr>\n",
       "      <th>3</th>\n",
       "      <td>data_pinjam</td>\n",
       "    </tr>\n",
       "  </tbody>\n",
       "</table>\n",
       "</div>"
      ],
      "text/plain": [
       "  Tables_in_perpustakaan\n",
       "0              data_buku\n",
       "1           data_pegawai\n",
       "2          data_peminjam\n",
       "3            data_pinjam"
      ]
     },
     "execution_count": 53,
     "metadata": {},
     "output_type": "execute_result"
    }
   ],
   "source": [
    "tabel_perpustakaan = pd.read_sql_query('SHOW TABLES FROM perpustakaan', connection)\n",
    "tabel_perpustakaan"
   ]
  },
  {
   "cell_type": "code",
   "execution_count": 54,
   "metadata": {},
   "outputs": [
    {
     "data": {
      "text/html": [
       "<div>\n",
       "<style scoped>\n",
       "    .dataframe tbody tr th:only-of-type {\n",
       "        vertical-align: middle;\n",
       "    }\n",
       "\n",
       "    .dataframe tbody tr th {\n",
       "        vertical-align: top;\n",
       "    }\n",
       "\n",
       "    .dataframe thead th {\n",
       "        text-align: right;\n",
       "    }\n",
       "</style>\n",
       "<table border=\"1\" class=\"dataframe\">\n",
       "  <thead>\n",
       "    <tr style=\"text-align: right;\">\n",
       "      <th></th>\n",
       "      <th>Id_buku</th>\n",
       "      <th>judul_buku</th>\n",
       "      <th>pengarang</th>\n",
       "      <th>penerbit</th>\n",
       "    </tr>\n",
       "  </thead>\n",
       "  <tbody>\n",
       "    <tr>\n",
       "      <th>0</th>\n",
       "      <td>1</td>\n",
       "      <td>Overlord, Vol. 1: The Undead King</td>\n",
       "      <td>Kugane Maruyama</td>\n",
       "      <td>Gramedia</td>\n",
       "    </tr>\n",
       "    <tr>\n",
       "      <th>1</th>\n",
       "      <td>2</td>\n",
       "      <td>Overlord, Vol. 2: The Dark Warrior</td>\n",
       "      <td>Kugane Maruyama</td>\n",
       "      <td>Gramedia</td>\n",
       "    </tr>\n",
       "    <tr>\n",
       "      <th>2</th>\n",
       "      <td>3</td>\n",
       "      <td>Detective Conan, Vol. 1</td>\n",
       "      <td>Gosho Aoyama</td>\n",
       "      <td>Gramedia</td>\n",
       "    </tr>\n",
       "  </tbody>\n",
       "</table>\n",
       "</div>"
      ],
      "text/plain": [
       "   Id_buku                          judul_buku         pengarang  penerbit\n",
       "0        1   Overlord, Vol. 1: The Undead King   Kugane Maruyama  Gramedia\n",
       "1        2  Overlord, Vol. 2: The Dark Warrior   Kugane Maruyama  Gramedia\n",
       "2        3             Detective Conan, Vol. 1      Gosho Aoyama  Gramedia"
      ]
     },
     "execution_count": 54,
     "metadata": {},
     "output_type": "execute_result"
    }
   ],
   "source": [
    "tabel_buku = pd.read_sql_query('SELECT * from data_buku', connection)\n",
    "tabel_buku"
   ]
  },
  {
   "cell_type": "code",
   "execution_count": 55,
   "metadata": {},
   "outputs": [
    {
     "data": {
      "text/html": [
       "<div>\n",
       "<style scoped>\n",
       "    .dataframe tbody tr th:only-of-type {\n",
       "        vertical-align: middle;\n",
       "    }\n",
       "\n",
       "    .dataframe tbody tr th {\n",
       "        vertical-align: top;\n",
       "    }\n",
       "\n",
       "    .dataframe thead th {\n",
       "        text-align: right;\n",
       "    }\n",
       "</style>\n",
       "<table border=\"1\" class=\"dataframe\">\n",
       "  <thead>\n",
       "    <tr style=\"text-align: right;\">\n",
       "      <th></th>\n",
       "      <th>id_pegawai</th>\n",
       "      <th>nama_pegawai</th>\n",
       "      <th>alamat</th>\n",
       "      <th>no_hp</th>\n",
       "    </tr>\n",
       "  </thead>\n",
       "  <tbody>\n",
       "    <tr>\n",
       "      <th>0</th>\n",
       "      <td>1</td>\n",
       "      <td>Adi</td>\n",
       "      <td>Surabaya</td>\n",
       "      <td>081253846329</td>\n",
       "    </tr>\n",
       "    <tr>\n",
       "      <th>1</th>\n",
       "      <td>2</td>\n",
       "      <td>Ali</td>\n",
       "      <td>Surabaya</td>\n",
       "      <td>083736182323</td>\n",
       "    </tr>\n",
       "    <tr>\n",
       "      <th>2</th>\n",
       "      <td>3</td>\n",
       "      <td>Dian</td>\n",
       "      <td>Sidoarjo</td>\n",
       "      <td>083273281232</td>\n",
       "    </tr>\n",
       "  </tbody>\n",
       "</table>\n",
       "</div>"
      ],
      "text/plain": [
       "   id_pegawai nama_pegawai    alamat         no_hp\n",
       "0           1          Adi  Surabaya  081253846329\n",
       "1           2          Ali  Surabaya  083736182323\n",
       "2           3         Dian  Sidoarjo  083273281232"
      ]
     },
     "execution_count": 55,
     "metadata": {},
     "output_type": "execute_result"
    }
   ],
   "source": [
    "tabel_pegawai = pd.read_sql_query('SELECT * from data_pegawai', connection)\n",
    "tabel_pegawai"
   ]
  },
  {
   "cell_type": "code",
   "execution_count": 56,
   "metadata": {
    "scrolled": true
   },
   "outputs": [
    {
     "data": {
      "text/html": [
       "<div>\n",
       "<style scoped>\n",
       "    .dataframe tbody tr th:only-of-type {\n",
       "        vertical-align: middle;\n",
       "    }\n",
       "\n",
       "    .dataframe tbody tr th {\n",
       "        vertical-align: top;\n",
       "    }\n",
       "\n",
       "    .dataframe thead th {\n",
       "        text-align: right;\n",
       "    }\n",
       "</style>\n",
       "<table border=\"1\" class=\"dataframe\">\n",
       "  <thead>\n",
       "    <tr style=\"text-align: right;\">\n",
       "      <th></th>\n",
       "      <th>Id_peminjam</th>\n",
       "      <th>nama_peminjam</th>\n",
       "      <th>alamat</th>\n",
       "      <th>no_hp</th>\n",
       "    </tr>\n",
       "  </thead>\n",
       "  <tbody>\n",
       "    <tr>\n",
       "      <th>0</th>\n",
       "      <td>1</td>\n",
       "      <td>Ilham</td>\n",
       "      <td>Krian</td>\n",
       "      <td>081273639234</td>\n",
       "    </tr>\n",
       "    <tr>\n",
       "      <th>1</th>\n",
       "      <td>2</td>\n",
       "      <td>Alan</td>\n",
       "      <td>Sidoarjo</td>\n",
       "      <td>083783672812</td>\n",
       "    </tr>\n",
       "    <tr>\n",
       "      <th>2</th>\n",
       "      <td>3</td>\n",
       "      <td>Ihsan</td>\n",
       "      <td>Surabaya</td>\n",
       "      <td>083271282343</td>\n",
       "    </tr>\n",
       "  </tbody>\n",
       "</table>\n",
       "</div>"
      ],
      "text/plain": [
       "   Id_peminjam nama_peminjam    alamat         no_hp\n",
       "0            1         Ilham     Krian  081273639234\n",
       "1            2          Alan  Sidoarjo  083783672812\n",
       "2            3         Ihsan  Surabaya  083271282343"
      ]
     },
     "execution_count": 56,
     "metadata": {},
     "output_type": "execute_result"
    }
   ],
   "source": [
    "tabel_peminjam = pd.read_sql_query('SELECT * from data_peminjam', connection)\n",
    "tabel_peminjam"
   ]
  },
  {
   "cell_type": "code",
   "execution_count": 57,
   "metadata": {},
   "outputs": [
    {
     "data": {
      "text/html": [
       "<div>\n",
       "<style scoped>\n",
       "    .dataframe tbody tr th:only-of-type {\n",
       "        vertical-align: middle;\n",
       "    }\n",
       "\n",
       "    .dataframe tbody tr th {\n",
       "        vertical-align: top;\n",
       "    }\n",
       "\n",
       "    .dataframe thead th {\n",
       "        text-align: right;\n",
       "    }\n",
       "</style>\n",
       "<table border=\"1\" class=\"dataframe\">\n",
       "  <thead>\n",
       "    <tr style=\"text-align: right;\">\n",
       "      <th></th>\n",
       "      <th>Id_pinjam</th>\n",
       "      <th>id_buku</th>\n",
       "      <th>id_pegawai</th>\n",
       "      <th>id_peminjam</th>\n",
       "      <th>tgl_pinjam</th>\n",
       "      <th>tgl_kembali</th>\n",
       "    </tr>\n",
       "  </thead>\n",
       "  <tbody>\n",
       "    <tr>\n",
       "      <th>0</th>\n",
       "      <td>1</td>\n",
       "      <td>1</td>\n",
       "      <td>1</td>\n",
       "      <td>1</td>\n",
       "      <td>2021-05-03</td>\n",
       "      <td>2021-05-10</td>\n",
       "    </tr>\n",
       "    <tr>\n",
       "      <th>1</th>\n",
       "      <td>2</td>\n",
       "      <td>2</td>\n",
       "      <td>2</td>\n",
       "      <td>2</td>\n",
       "      <td>2021-05-12</td>\n",
       "      <td>2021-05-19</td>\n",
       "    </tr>\n",
       "    <tr>\n",
       "      <th>2</th>\n",
       "      <td>3</td>\n",
       "      <td>3</td>\n",
       "      <td>3</td>\n",
       "      <td>3</td>\n",
       "      <td>2021-05-14</td>\n",
       "      <td>2021-05-21</td>\n",
       "    </tr>\n",
       "  </tbody>\n",
       "</table>\n",
       "</div>"
      ],
      "text/plain": [
       "   Id_pinjam  id_buku  id_pegawai  id_peminjam  tgl_pinjam tgl_kembali\n",
       "0          1        1           1            1  2021-05-03  2021-05-10\n",
       "1          2        2           2            2  2021-05-12  2021-05-19\n",
       "2          3        3           3            3  2021-05-14  2021-05-21"
      ]
     },
     "execution_count": 57,
     "metadata": {},
     "output_type": "execute_result"
    }
   ],
   "source": [
    "tabel_pinjam = pd.read_sql_query('SELECT * from data_pinjam', connection)\n",
    "tabel_pinjam"
   ]
  },
  {
   "cell_type": "code",
   "execution_count": 66,
   "metadata": {
    "scrolled": true
   },
   "outputs": [],
   "source": [
    "query = '''SELECT Pinjam.Id_pinjam, Buku.judul_buku, Peminjam.nama_peminjam,\n",
    "            Pegawai.nama_pegawai, Pinjam.tgl_pinjam, Pinjam.tgl_kembali\n",
    "            from data_pinjam Pinjam\n",
    "            inner join data_buku Buku\n",
    "                on (Pinjam.id_buku = Buku.id_buku)\n",
    "            inner join data_peminjam Peminjam\n",
    "                on (Pinjam.id_peminjam = Peminjam.id_peminjam)\n",
    "            inner join data_pegawai Pegawai\n",
    "                on (Pinjam.id_pegawai = Pegawai.id_pegawai)'''"
   ]
  },
  {
   "cell_type": "code",
   "execution_count": 67,
   "metadata": {
    "scrolled": false
   },
   "outputs": [
    {
     "data": {
      "text/html": [
       "<div>\n",
       "<style scoped>\n",
       "    .dataframe tbody tr th:only-of-type {\n",
       "        vertical-align: middle;\n",
       "    }\n",
       "\n",
       "    .dataframe tbody tr th {\n",
       "        vertical-align: top;\n",
       "    }\n",
       "\n",
       "    .dataframe thead th {\n",
       "        text-align: right;\n",
       "    }\n",
       "</style>\n",
       "<table border=\"1\" class=\"dataframe\">\n",
       "  <thead>\n",
       "    <tr style=\"text-align: right;\">\n",
       "      <th></th>\n",
       "      <th>Id_pinjam</th>\n",
       "      <th>judul_buku</th>\n",
       "      <th>nama_peminjam</th>\n",
       "      <th>nama_pegawai</th>\n",
       "      <th>tgl_pinjam</th>\n",
       "      <th>tgl_kembali</th>\n",
       "    </tr>\n",
       "  </thead>\n",
       "  <tbody>\n",
       "    <tr>\n",
       "      <th>0</th>\n",
       "      <td>1</td>\n",
       "      <td>Overlord, Vol. 1: The Undead King</td>\n",
       "      <td>Ilham</td>\n",
       "      <td>Adi</td>\n",
       "      <td>2021-05-03</td>\n",
       "      <td>2021-05-10</td>\n",
       "    </tr>\n",
       "    <tr>\n",
       "      <th>1</th>\n",
       "      <td>2</td>\n",
       "      <td>Overlord, Vol. 2: The Dark Warrior</td>\n",
       "      <td>Alan</td>\n",
       "      <td>Ali</td>\n",
       "      <td>2021-05-12</td>\n",
       "      <td>2021-05-19</td>\n",
       "    </tr>\n",
       "    <tr>\n",
       "      <th>2</th>\n",
       "      <td>3</td>\n",
       "      <td>Detective Conan, Vol. 1</td>\n",
       "      <td>Ihsan</td>\n",
       "      <td>Dian</td>\n",
       "      <td>2021-05-14</td>\n",
       "      <td>2021-05-21</td>\n",
       "    </tr>\n",
       "  </tbody>\n",
       "</table>\n",
       "</div>"
      ],
      "text/plain": [
       "   Id_pinjam                          judul_buku nama_peminjam nama_pegawai  \\\n",
       "0          1   Overlord, Vol. 1: The Undead King         Ilham          Adi   \n",
       "1          2  Overlord, Vol. 2: The Dark Warrior          Alan          Ali   \n",
       "2          3             Detective Conan, Vol. 1         Ihsan         Dian   \n",
       "\n",
       "   tgl_pinjam tgl_kembali  \n",
       "0  2021-05-03  2021-05-10  \n",
       "1  2021-05-12  2021-05-19  \n",
       "2  2021-05-14  2021-05-21  "
      ]
     },
     "execution_count": 67,
     "metadata": {},
     "output_type": "execute_result"
    }
   ],
   "source": [
    "tabel_pinjam = pd.read_sql_query(query, connection)\n",
    "tabel_pinjam"
   ]
  },
  {
   "cell_type": "markdown",
   "metadata": {},
   "source": [
    "# SNOWFLAKE SCHEMA"
   ]
  },
  {
   "cell_type": "code",
   "execution_count": 68,
   "metadata": {},
   "outputs": [],
   "source": [
    "connect = mysql.connector.connect(host = 'localhost',\n",
    "                                    user = 'root',\n",
    "                                    passwd = '',\n",
    "                                    db = 'nilai')"
   ]
  },
  {
   "cell_type": "code",
   "execution_count": 69,
   "metadata": {},
   "outputs": [
    {
     "data": {
      "text/plain": [
       "<mysql.connector.connection.MySQLConnection at 0x948ee68>"
      ]
     },
     "execution_count": 69,
     "metadata": {},
     "output_type": "execute_result"
    }
   ],
   "source": [
    "connect"
   ]
  },
  {
   "cell_type": "code",
   "execution_count": 72,
   "metadata": {},
   "outputs": [
    {
     "data": {
      "text/html": [
       "<div>\n",
       "<style scoped>\n",
       "    .dataframe tbody tr th:only-of-type {\n",
       "        vertical-align: middle;\n",
       "    }\n",
       "\n",
       "    .dataframe tbody tr th {\n",
       "        vertical-align: top;\n",
       "    }\n",
       "\n",
       "    .dataframe thead th {\n",
       "        text-align: right;\n",
       "    }\n",
       "</style>\n",
       "<table border=\"1\" class=\"dataframe\">\n",
       "  <thead>\n",
       "    <tr style=\"text-align: right;\">\n",
       "      <th></th>\n",
       "      <th>Tables_in_nilai</th>\n",
       "    </tr>\n",
       "  </thead>\n",
       "  <tbody>\n",
       "    <tr>\n",
       "      <th>0</th>\n",
       "      <td>data_guru</td>\n",
       "    </tr>\n",
       "    <tr>\n",
       "      <th>1</th>\n",
       "      <td>data_nilai</td>\n",
       "    </tr>\n",
       "    <tr>\n",
       "      <th>2</th>\n",
       "      <td>data_pelajaran</td>\n",
       "    </tr>\n",
       "    <tr>\n",
       "      <th>3</th>\n",
       "      <td>data_siswa</td>\n",
       "    </tr>\n",
       "  </tbody>\n",
       "</table>\n",
       "</div>"
      ],
      "text/plain": [
       "  Tables_in_nilai\n",
       "0       data_guru\n",
       "1      data_nilai\n",
       "2  data_pelajaran\n",
       "3      data_siswa"
      ]
     },
     "execution_count": 72,
     "metadata": {},
     "output_type": "execute_result"
    }
   ],
   "source": [
    "tabel_nilai = pd.read_sql_query('SHOW TABLES FROM nilai', connect)\n",
    "tabel_nilai"
   ]
  },
  {
   "cell_type": "code",
   "execution_count": 73,
   "metadata": {},
   "outputs": [
    {
     "data": {
      "text/html": [
       "<div>\n",
       "<style scoped>\n",
       "    .dataframe tbody tr th:only-of-type {\n",
       "        vertical-align: middle;\n",
       "    }\n",
       "\n",
       "    .dataframe tbody tr th {\n",
       "        vertical-align: top;\n",
       "    }\n",
       "\n",
       "    .dataframe thead th {\n",
       "        text-align: right;\n",
       "    }\n",
       "</style>\n",
       "<table border=\"1\" class=\"dataframe\">\n",
       "  <thead>\n",
       "    <tr style=\"text-align: right;\">\n",
       "      <th></th>\n",
       "      <th>id_guru</th>\n",
       "      <th>nama_guru</th>\n",
       "      <th>jenis_kelamin</th>\n",
       "      <th>alamat</th>\n",
       "    </tr>\n",
       "  </thead>\n",
       "  <tbody>\n",
       "    <tr>\n",
       "      <th>0</th>\n",
       "      <td>1</td>\n",
       "      <td>Brian</td>\n",
       "      <td>L</td>\n",
       "      <td>Surabaya</td>\n",
       "    </tr>\n",
       "    <tr>\n",
       "      <th>1</th>\n",
       "      <td>2</td>\n",
       "      <td>Dian</td>\n",
       "      <td>P</td>\n",
       "      <td>Surabaya</td>\n",
       "    </tr>\n",
       "  </tbody>\n",
       "</table>\n",
       "</div>"
      ],
      "text/plain": [
       "   id_guru nama_guru jenis_kelamin    alamat\n",
       "0        1     Brian             L  Surabaya\n",
       "1        2      Dian             P  Surabaya"
      ]
     },
     "execution_count": 73,
     "metadata": {},
     "output_type": "execute_result"
    }
   ],
   "source": [
    "tabel_guru = pd.read_sql_query('SELECT * from data_guru', connect)\n",
    "tabel_guru"
   ]
  },
  {
   "cell_type": "code",
   "execution_count": 74,
   "metadata": {},
   "outputs": [
    {
     "data": {
      "text/html": [
       "<div>\n",
       "<style scoped>\n",
       "    .dataframe tbody tr th:only-of-type {\n",
       "        vertical-align: middle;\n",
       "    }\n",
       "\n",
       "    .dataframe tbody tr th {\n",
       "        vertical-align: top;\n",
       "    }\n",
       "\n",
       "    .dataframe thead th {\n",
       "        text-align: right;\n",
       "    }\n",
       "</style>\n",
       "<table border=\"1\" class=\"dataframe\">\n",
       "  <thead>\n",
       "    <tr style=\"text-align: right;\">\n",
       "      <th></th>\n",
       "      <th>id_nilai</th>\n",
       "      <th>id_siswa</th>\n",
       "      <th>id_pelajaran</th>\n",
       "      <th>nilai</th>\n",
       "    </tr>\n",
       "  </thead>\n",
       "  <tbody>\n",
       "    <tr>\n",
       "      <th>0</th>\n",
       "      <td>1</td>\n",
       "      <td>1</td>\n",
       "      <td>1</td>\n",
       "      <td>80</td>\n",
       "    </tr>\n",
       "    <tr>\n",
       "      <th>1</th>\n",
       "      <td>2</td>\n",
       "      <td>2</td>\n",
       "      <td>2</td>\n",
       "      <td>90</td>\n",
       "    </tr>\n",
       "    <tr>\n",
       "      <th>2</th>\n",
       "      <td>3</td>\n",
       "      <td>3</td>\n",
       "      <td>1</td>\n",
       "      <td>89</td>\n",
       "    </tr>\n",
       "  </tbody>\n",
       "</table>\n",
       "</div>"
      ],
      "text/plain": [
       "   id_nilai  id_siswa  id_pelajaran  nilai\n",
       "0         1         1             1     80\n",
       "1         2         2             2     90\n",
       "2         3         3             1     89"
      ]
     },
     "execution_count": 74,
     "metadata": {},
     "output_type": "execute_result"
    }
   ],
   "source": [
    "tabel_data_nilai = pd.read_sql_query('SELECT * from data_nilai', connect)\n",
    "tabel_data_nilai"
   ]
  },
  {
   "cell_type": "code",
   "execution_count": 75,
   "metadata": {},
   "outputs": [
    {
     "data": {
      "text/html": [
       "<div>\n",
       "<style scoped>\n",
       "    .dataframe tbody tr th:only-of-type {\n",
       "        vertical-align: middle;\n",
       "    }\n",
       "\n",
       "    .dataframe tbody tr th {\n",
       "        vertical-align: top;\n",
       "    }\n",
       "\n",
       "    .dataframe thead th {\n",
       "        text-align: right;\n",
       "    }\n",
       "</style>\n",
       "<table border=\"1\" class=\"dataframe\">\n",
       "  <thead>\n",
       "    <tr style=\"text-align: right;\">\n",
       "      <th></th>\n",
       "      <th>id_pelajaran</th>\n",
       "      <th>id_guru</th>\n",
       "      <th>pelajaran</th>\n",
       "    </tr>\n",
       "  </thead>\n",
       "  <tbody>\n",
       "    <tr>\n",
       "      <th>0</th>\n",
       "      <td>1</td>\n",
       "      <td>1</td>\n",
       "      <td>matematika</td>\n",
       "    </tr>\n",
       "    <tr>\n",
       "      <th>1</th>\n",
       "      <td>2</td>\n",
       "      <td>2</td>\n",
       "      <td>ipa</td>\n",
       "    </tr>\n",
       "  </tbody>\n",
       "</table>\n",
       "</div>"
      ],
      "text/plain": [
       "   id_pelajaran  id_guru   pelajaran\n",
       "0             1        1  matematika\n",
       "1             2        2         ipa"
      ]
     },
     "execution_count": 75,
     "metadata": {},
     "output_type": "execute_result"
    }
   ],
   "source": [
    "tabel_pelajaran = pd.read_sql_query('SELECT * from data_pelajaran', connect)\n",
    "tabel_pelajaran"
   ]
  },
  {
   "cell_type": "code",
   "execution_count": 76,
   "metadata": {},
   "outputs": [
    {
     "data": {
      "text/html": [
       "<div>\n",
       "<style scoped>\n",
       "    .dataframe tbody tr th:only-of-type {\n",
       "        vertical-align: middle;\n",
       "    }\n",
       "\n",
       "    .dataframe tbody tr th {\n",
       "        vertical-align: top;\n",
       "    }\n",
       "\n",
       "    .dataframe thead th {\n",
       "        text-align: right;\n",
       "    }\n",
       "</style>\n",
       "<table border=\"1\" class=\"dataframe\">\n",
       "  <thead>\n",
       "    <tr style=\"text-align: right;\">\n",
       "      <th></th>\n",
       "      <th>id_siswa</th>\n",
       "      <th>nama_siswa</th>\n",
       "      <th>jenis_kelamin</th>\n",
       "      <th>alamat</th>\n",
       "    </tr>\n",
       "  </thead>\n",
       "  <tbody>\n",
       "    <tr>\n",
       "      <th>0</th>\n",
       "      <td>1</td>\n",
       "      <td>Adi</td>\n",
       "      <td>L</td>\n",
       "      <td>Surabaya</td>\n",
       "    </tr>\n",
       "    <tr>\n",
       "      <th>1</th>\n",
       "      <td>2</td>\n",
       "      <td>Diah</td>\n",
       "      <td>P</td>\n",
       "      <td>Surabaya</td>\n",
       "    </tr>\n",
       "    <tr>\n",
       "      <th>2</th>\n",
       "      <td>3</td>\n",
       "      <td>Ilham</td>\n",
       "      <td>L</td>\n",
       "      <td>Sidoarjo</td>\n",
       "    </tr>\n",
       "  </tbody>\n",
       "</table>\n",
       "</div>"
      ],
      "text/plain": [
       "   id_siswa nama_siswa jenis_kelamin    alamat\n",
       "0         1        Adi             L  Surabaya\n",
       "1         2       Diah             P  Surabaya\n",
       "2         3      Ilham             L  Sidoarjo"
      ]
     },
     "execution_count": 76,
     "metadata": {},
     "output_type": "execute_result"
    }
   ],
   "source": [
    "tabel_siswa = pd.read_sql_query('SELECT * from data_siswa', connect)\n",
    "tabel_siswa"
   ]
  },
  {
   "cell_type": "code",
   "execution_count": 77,
   "metadata": {},
   "outputs": [],
   "source": [
    "query_nilai = '''SELECT Nilai.Id_nilai, Siswa.nama_siswa, Pelajaran.pelajaran,\n",
    "            Guru.nama_guru, Nilai.nilai\n",
    "            from data_nilai Nilai\n",
    "            inner join data_siswa Siswa\n",
    "                on (Nilai.id_nilai = Siswa.id_siswa)\n",
    "            inner join data_pelajaran Pelajaran\n",
    "                on (Nilai.id_pelajaran = Pelajaran.id_pelajaran)\n",
    "            inner join data_guru Guru\n",
    "                on (Pelajaran.id_guru = Guru.id_guru)'''"
   ]
  },
  {
   "cell_type": "code",
   "execution_count": 79,
   "metadata": {},
   "outputs": [
    {
     "data": {
      "text/html": [
       "<div>\n",
       "<style scoped>\n",
       "    .dataframe tbody tr th:only-of-type {\n",
       "        vertical-align: middle;\n",
       "    }\n",
       "\n",
       "    .dataframe tbody tr th {\n",
       "        vertical-align: top;\n",
       "    }\n",
       "\n",
       "    .dataframe thead th {\n",
       "        text-align: right;\n",
       "    }\n",
       "</style>\n",
       "<table border=\"1\" class=\"dataframe\">\n",
       "  <thead>\n",
       "    <tr style=\"text-align: right;\">\n",
       "      <th></th>\n",
       "      <th>Id_nilai</th>\n",
       "      <th>nama_siswa</th>\n",
       "      <th>pelajaran</th>\n",
       "      <th>nama_guru</th>\n",
       "      <th>nilai</th>\n",
       "    </tr>\n",
       "  </thead>\n",
       "  <tbody>\n",
       "    <tr>\n",
       "      <th>0</th>\n",
       "      <td>1</td>\n",
       "      <td>Adi</td>\n",
       "      <td>matematika</td>\n",
       "      <td>Brian</td>\n",
       "      <td>80</td>\n",
       "    </tr>\n",
       "    <tr>\n",
       "      <th>1</th>\n",
       "      <td>3</td>\n",
       "      <td>Ilham</td>\n",
       "      <td>matematika</td>\n",
       "      <td>Brian</td>\n",
       "      <td>89</td>\n",
       "    </tr>\n",
       "    <tr>\n",
       "      <th>2</th>\n",
       "      <td>2</td>\n",
       "      <td>Diah</td>\n",
       "      <td>ipa</td>\n",
       "      <td>Dian</td>\n",
       "      <td>90</td>\n",
       "    </tr>\n",
       "  </tbody>\n",
       "</table>\n",
       "</div>"
      ],
      "text/plain": [
       "   Id_nilai nama_siswa   pelajaran nama_guru  nilai\n",
       "0         1        Adi  matematika     Brian     80\n",
       "1         3      Ilham  matematika     Brian     89\n",
       "2         2       Diah         ipa      Dian     90"
      ]
     },
     "execution_count": 79,
     "metadata": {},
     "output_type": "execute_result"
    }
   ],
   "source": [
    "tabel_hasil_nilai = pd.read_sql_query(query_nilai, connect)\n",
    "tabel_hasil_nilai"
   ]
  },
  {
   "cell_type": "markdown",
   "metadata": {},
   "source": [
    "# GALAXY SCHEMA"
   ]
  },
  {
   "cell_type": "code",
   "execution_count": 80,
   "metadata": {},
   "outputs": [],
   "source": [
    "con = mysql.connector.connect(host = 'localhost',\n",
    "                                    user = 'root',\n",
    "                                    passwd = '',\n",
    "                                    db = 'penjualan')"
   ]
  },
  {
   "cell_type": "code",
   "execution_count": 81,
   "metadata": {},
   "outputs": [
    {
     "data": {
      "text/plain": [
       "<mysql.connector.connection.MySQLConnection at 0x94f0370>"
      ]
     },
     "execution_count": 81,
     "metadata": {},
     "output_type": "execute_result"
    }
   ],
   "source": [
    "con"
   ]
  },
  {
   "cell_type": "code",
   "execution_count": 87,
   "metadata": {},
   "outputs": [
    {
     "data": {
      "text/html": [
       "<div>\n",
       "<style scoped>\n",
       "    .dataframe tbody tr th:only-of-type {\n",
       "        vertical-align: middle;\n",
       "    }\n",
       "\n",
       "    .dataframe tbody tr th {\n",
       "        vertical-align: top;\n",
       "    }\n",
       "\n",
       "    .dataframe thead th {\n",
       "        text-align: right;\n",
       "    }\n",
       "</style>\n",
       "<table border=\"1\" class=\"dataframe\">\n",
       "  <thead>\n",
       "    <tr style=\"text-align: right;\">\n",
       "      <th></th>\n",
       "      <th>Tables_in_penjualan</th>\n",
       "    </tr>\n",
       "  </thead>\n",
       "  <tbody>\n",
       "    <tr>\n",
       "      <th>0</th>\n",
       "      <td>data_barang</td>\n",
       "    </tr>\n",
       "    <tr>\n",
       "      <th>1</th>\n",
       "      <td>data_pembeli</td>\n",
       "    </tr>\n",
       "    <tr>\n",
       "      <th>2</th>\n",
       "      <td>data_penjual</td>\n",
       "    </tr>\n",
       "    <tr>\n",
       "      <th>3</th>\n",
       "      <td>data_pesan_online</td>\n",
       "    </tr>\n",
       "    <tr>\n",
       "      <th>4</th>\n",
       "      <td>data_transaksi</td>\n",
       "    </tr>\n",
       "  </tbody>\n",
       "</table>\n",
       "</div>"
      ],
      "text/plain": [
       "  Tables_in_penjualan\n",
       "0         data_barang\n",
       "1        data_pembeli\n",
       "2        data_penjual\n",
       "3   data_pesan_online\n",
       "4      data_transaksi"
      ]
     },
     "execution_count": 87,
     "metadata": {},
     "output_type": "execute_result"
    }
   ],
   "source": [
    "tabel_penjualan = pd.read_sql_query('SHOW TABLES FROM penjualan', con)\n",
    "tabel_penjualan"
   ]
  },
  {
   "cell_type": "code",
   "execution_count": 88,
   "metadata": {},
   "outputs": [
    {
     "data": {
      "text/html": [
       "<div>\n",
       "<style scoped>\n",
       "    .dataframe tbody tr th:only-of-type {\n",
       "        vertical-align: middle;\n",
       "    }\n",
       "\n",
       "    .dataframe tbody tr th {\n",
       "        vertical-align: top;\n",
       "    }\n",
       "\n",
       "    .dataframe thead th {\n",
       "        text-align: right;\n",
       "    }\n",
       "</style>\n",
       "<table border=\"1\" class=\"dataframe\">\n",
       "  <thead>\n",
       "    <tr style=\"text-align: right;\">\n",
       "      <th></th>\n",
       "      <th>id_barang</th>\n",
       "      <th>nama_barang</th>\n",
       "      <th>stok</th>\n",
       "      <th>harga</th>\n",
       "    </tr>\n",
       "  </thead>\n",
       "  <tbody>\n",
       "    <tr>\n",
       "      <th>0</th>\n",
       "      <td>1</td>\n",
       "      <td>Sunlight</td>\n",
       "      <td>100</td>\n",
       "      <td>10000</td>\n",
       "    </tr>\n",
       "    <tr>\n",
       "      <th>1</th>\n",
       "      <td>2</td>\n",
       "      <td>RInso</td>\n",
       "      <td>100</td>\n",
       "      <td>15000</td>\n",
       "    </tr>\n",
       "  </tbody>\n",
       "</table>\n",
       "</div>"
      ],
      "text/plain": [
       "   id_barang nama_barang  stok  harga\n",
       "0          1    Sunlight   100  10000\n",
       "1          2       RInso   100  15000"
      ]
     },
     "execution_count": 88,
     "metadata": {},
     "output_type": "execute_result"
    }
   ],
   "source": [
    "tabel_barang = pd.read_sql_query('SELECT * from data_barang', con)\n",
    "tabel_barang"
   ]
  },
  {
   "cell_type": "code",
   "execution_count": 89,
   "metadata": {},
   "outputs": [
    {
     "data": {
      "text/html": [
       "<div>\n",
       "<style scoped>\n",
       "    .dataframe tbody tr th:only-of-type {\n",
       "        vertical-align: middle;\n",
       "    }\n",
       "\n",
       "    .dataframe tbody tr th {\n",
       "        vertical-align: top;\n",
       "    }\n",
       "\n",
       "    .dataframe thead th {\n",
       "        text-align: right;\n",
       "    }\n",
       "</style>\n",
       "<table border=\"1\" class=\"dataframe\">\n",
       "  <thead>\n",
       "    <tr style=\"text-align: right;\">\n",
       "      <th></th>\n",
       "      <th>id_pembeli</th>\n",
       "      <th>nama_pembeli</th>\n",
       "      <th>alamat</th>\n",
       "      <th>no_hp</th>\n",
       "    </tr>\n",
       "  </thead>\n",
       "  <tbody>\n",
       "    <tr>\n",
       "      <th>0</th>\n",
       "      <td>1</td>\n",
       "      <td>Adi</td>\n",
       "      <td>Surabaya</td>\n",
       "      <td>081043823434</td>\n",
       "    </tr>\n",
       "    <tr>\n",
       "      <th>1</th>\n",
       "      <td>2</td>\n",
       "      <td>Fika</td>\n",
       "      <td>Surabaya</td>\n",
       "      <td>08327328321</td>\n",
       "    </tr>\n",
       "  </tbody>\n",
       "</table>\n",
       "</div>"
      ],
      "text/plain": [
       "   id_pembeli nama_pembeli    alamat         no_hp\n",
       "0           1          Adi  Surabaya  081043823434\n",
       "1           2         Fika  Surabaya   08327328321"
      ]
     },
     "execution_count": 89,
     "metadata": {},
     "output_type": "execute_result"
    }
   ],
   "source": [
    "tabel_pembeli = pd.read_sql_query('SELECT * from data_pembeli', con)\n",
    "tabel_pembeli"
   ]
  },
  {
   "cell_type": "code",
   "execution_count": 90,
   "metadata": {},
   "outputs": [
    {
     "data": {
      "text/html": [
       "<div>\n",
       "<style scoped>\n",
       "    .dataframe tbody tr th:only-of-type {\n",
       "        vertical-align: middle;\n",
       "    }\n",
       "\n",
       "    .dataframe tbody tr th {\n",
       "        vertical-align: top;\n",
       "    }\n",
       "\n",
       "    .dataframe thead th {\n",
       "        text-align: right;\n",
       "    }\n",
       "</style>\n",
       "<table border=\"1\" class=\"dataframe\">\n",
       "  <thead>\n",
       "    <tr style=\"text-align: right;\">\n",
       "      <th></th>\n",
       "      <th>id_pegawai</th>\n",
       "      <th>nama_pegawai</th>\n",
       "      <th>alamat</th>\n",
       "      <th>no_hp</th>\n",
       "    </tr>\n",
       "  </thead>\n",
       "  <tbody>\n",
       "    <tr>\n",
       "      <th>0</th>\n",
       "      <td>1</td>\n",
       "      <td>Lila</td>\n",
       "      <td>Krian</td>\n",
       "      <td>081253846329</td>\n",
       "    </tr>\n",
       "    <tr>\n",
       "      <th>1</th>\n",
       "      <td>2</td>\n",
       "      <td>Dian</td>\n",
       "      <td>Sidoarjo</td>\n",
       "      <td>083783672812</td>\n",
       "    </tr>\n",
       "  </tbody>\n",
       "</table>\n",
       "</div>"
      ],
      "text/plain": [
       "   id_pegawai nama_pegawai    alamat         no_hp\n",
       "0           1         Lila     Krian  081253846329\n",
       "1           2         Dian  Sidoarjo  083783672812"
      ]
     },
     "execution_count": 90,
     "metadata": {},
     "output_type": "execute_result"
    }
   ],
   "source": [
    "tabel_penjual = pd.read_sql_query('SELECT * from data_penjual', con)\n",
    "tabel_penjual"
   ]
  },
  {
   "cell_type": "code",
   "execution_count": 91,
   "metadata": {},
   "outputs": [
    {
     "data": {
      "text/html": [
       "<div>\n",
       "<style scoped>\n",
       "    .dataframe tbody tr th:only-of-type {\n",
       "        vertical-align: middle;\n",
       "    }\n",
       "\n",
       "    .dataframe tbody tr th {\n",
       "        vertical-align: top;\n",
       "    }\n",
       "\n",
       "    .dataframe thead th {\n",
       "        text-align: right;\n",
       "    }\n",
       "</style>\n",
       "<table border=\"1\" class=\"dataframe\">\n",
       "  <thead>\n",
       "    <tr style=\"text-align: right;\">\n",
       "      <th></th>\n",
       "      <th>id_pesan_online</th>\n",
       "      <th>id_pembeli</th>\n",
       "      <th>id_barang</th>\n",
       "    </tr>\n",
       "  </thead>\n",
       "  <tbody>\n",
       "    <tr>\n",
       "      <th>0</th>\n",
       "      <td>1</td>\n",
       "      <td>1</td>\n",
       "      <td>2</td>\n",
       "    </tr>\n",
       "    <tr>\n",
       "      <th>1</th>\n",
       "      <td>2</td>\n",
       "      <td>2</td>\n",
       "      <td>1</td>\n",
       "    </tr>\n",
       "  </tbody>\n",
       "</table>\n",
       "</div>"
      ],
      "text/plain": [
       "   id_pesan_online  id_pembeli  id_barang\n",
       "0                1           1          2\n",
       "1                2           2          1"
      ]
     },
     "execution_count": 91,
     "metadata": {},
     "output_type": "execute_result"
    }
   ],
   "source": [
    "tabel_pesan = pd.read_sql_query('SELECT * from data_pesan_online', con)\n",
    "tabel_pesan"
   ]
  },
  {
   "cell_type": "code",
   "execution_count": 92,
   "metadata": {},
   "outputs": [
    {
     "data": {
      "text/html": [
       "<div>\n",
       "<style scoped>\n",
       "    .dataframe tbody tr th:only-of-type {\n",
       "        vertical-align: middle;\n",
       "    }\n",
       "\n",
       "    .dataframe tbody tr th {\n",
       "        vertical-align: top;\n",
       "    }\n",
       "\n",
       "    .dataframe thead th {\n",
       "        text-align: right;\n",
       "    }\n",
       "</style>\n",
       "<table border=\"1\" class=\"dataframe\">\n",
       "  <thead>\n",
       "    <tr style=\"text-align: right;\">\n",
       "      <th></th>\n",
       "      <th>id_transaksi</th>\n",
       "      <th>id_pesan_online</th>\n",
       "      <th>id_pegawai</th>\n",
       "      <th>id_pembeli</th>\n",
       "      <th>id_barang</th>\n",
       "      <th>stok_dibeli</th>\n",
       "      <th>total_harga</th>\n",
       "    </tr>\n",
       "  </thead>\n",
       "  <tbody>\n",
       "    <tr>\n",
       "      <th>0</th>\n",
       "      <td>1</td>\n",
       "      <td>1</td>\n",
       "      <td>1</td>\n",
       "      <td>1</td>\n",
       "      <td>2</td>\n",
       "      <td>1</td>\n",
       "      <td>10000</td>\n",
       "    </tr>\n",
       "    <tr>\n",
       "      <th>1</th>\n",
       "      <td>2</td>\n",
       "      <td>2</td>\n",
       "      <td>2</td>\n",
       "      <td>1</td>\n",
       "      <td>1</td>\n",
       "      <td>1</td>\n",
       "      <td>15000</td>\n",
       "    </tr>\n",
       "  </tbody>\n",
       "</table>\n",
       "</div>"
      ],
      "text/plain": [
       "   id_transaksi  id_pesan_online  id_pegawai  id_pembeli  id_barang  \\\n",
       "0             1                1           1           1          2   \n",
       "1             2                2           2           1          1   \n",
       "\n",
       "   stok_dibeli  total_harga  \n",
       "0            1        10000  \n",
       "1            1        15000  "
      ]
     },
     "execution_count": 92,
     "metadata": {},
     "output_type": "execute_result"
    }
   ],
   "source": [
    "tabel_transaksi = pd.read_sql_query('SELECT * from data_transaksi', con)\n",
    "tabel_transaksi"
   ]
  },
  {
   "cell_type": "code",
   "execution_count": 97,
   "metadata": {},
   "outputs": [],
   "source": [
    "query_transaksi = '''SELECT Transaksi.Id_transaksi, Pembeli.nama_pembeli, Barang.nama_barang, \n",
    "                Transaksi.stok_dibeli, Transaksi.total_harga\n",
    "            from data_transaksi Transaksi\n",
    "            inner join data_pesan_online Pesan\n",
    "                on (Transaksi.id_pesan_online = Pesan.id_pesan_online)\n",
    "            inner join data_pembeli Pembeli\n",
    "                on (Pesan.id_pembeli = Pembeli.id_pembeli)\n",
    "            inner join data_barang Barang\n",
    "                on (Pesan.id_barang = Barang.id_barang)'''"
   ]
  },
  {
   "cell_type": "code",
   "execution_count": 101,
   "metadata": {},
   "outputs": [
    {
     "name": "stdout",
     "output_type": "stream",
     "text": [
      "Beli Online\n"
     ]
    },
    {
     "data": {
      "text/html": [
       "<div>\n",
       "<style scoped>\n",
       "    .dataframe tbody tr th:only-of-type {\n",
       "        vertical-align: middle;\n",
       "    }\n",
       "\n",
       "    .dataframe tbody tr th {\n",
       "        vertical-align: top;\n",
       "    }\n",
       "\n",
       "    .dataframe thead th {\n",
       "        text-align: right;\n",
       "    }\n",
       "</style>\n",
       "<table border=\"1\" class=\"dataframe\">\n",
       "  <thead>\n",
       "    <tr style=\"text-align: right;\">\n",
       "      <th></th>\n",
       "      <th>Id_transaksi</th>\n",
       "      <th>nama_pembeli</th>\n",
       "      <th>nama_barang</th>\n",
       "      <th>stok_dibeli</th>\n",
       "      <th>total_harga</th>\n",
       "    </tr>\n",
       "  </thead>\n",
       "  <tbody>\n",
       "    <tr>\n",
       "      <th>0</th>\n",
       "      <td>1</td>\n",
       "      <td>Adi</td>\n",
       "      <td>RInso</td>\n",
       "      <td>1</td>\n",
       "      <td>10000</td>\n",
       "    </tr>\n",
       "    <tr>\n",
       "      <th>1</th>\n",
       "      <td>2</td>\n",
       "      <td>Fika</td>\n",
       "      <td>Sunlight</td>\n",
       "      <td>1</td>\n",
       "      <td>15000</td>\n",
       "    </tr>\n",
       "  </tbody>\n",
       "</table>\n",
       "</div>"
      ],
      "text/plain": [
       "   Id_transaksi nama_pembeli nama_barang  stok_dibeli  total_harga\n",
       "0             1          Adi       RInso            1        10000\n",
       "1             2         Fika    Sunlight            1        15000"
      ]
     },
     "execution_count": 101,
     "metadata": {},
     "output_type": "execute_result"
    }
   ],
   "source": [
    "tabel_hasil_transaksi = pd.read_sql_query(query_transaksi, con)\n",
    "print(\"Beli Online\")\n",
    "tabel_hasil_transaksi"
   ]
  },
  {
   "cell_type": "code",
   "execution_count": 102,
   "metadata": {},
   "outputs": [],
   "source": [
    "query_transaksi_2 = '''SELECT Transaksi.Id_transaksi, Pegawai.nama_pegawai, Pembeli.nama_pembeli, Barang.nama_barang, \n",
    "                Transaksi.stok_dibeli, Transaksi.total_harga\n",
    "            from data_transaksi Transaksi\n",
    "            inner join data_penjual Pegawai\n",
    "                on (Transaksi.id_pegawai = Pegawai.id_pegawai)\n",
    "            inner join data_pesan_online Pesan\n",
    "                on (Transaksi.id_pesan_online = Pesan.id_pesan_online)\n",
    "            inner join data_pembeli Pembeli\n",
    "                on (Pesan.id_pembeli = Pembeli.id_pembeli)\n",
    "            inner join data_barang Barang\n",
    "                on (Pesan.id_barang = Barang.id_barang)'''"
   ]
  },
  {
   "cell_type": "code",
   "execution_count": 103,
   "metadata": {},
   "outputs": [
    {
     "name": "stdout",
     "output_type": "stream",
     "text": [
      "Beli Offline\n"
     ]
    },
    {
     "data": {
      "text/html": [
       "<div>\n",
       "<style scoped>\n",
       "    .dataframe tbody tr th:only-of-type {\n",
       "        vertical-align: middle;\n",
       "    }\n",
       "\n",
       "    .dataframe tbody tr th {\n",
       "        vertical-align: top;\n",
       "    }\n",
       "\n",
       "    .dataframe thead th {\n",
       "        text-align: right;\n",
       "    }\n",
       "</style>\n",
       "<table border=\"1\" class=\"dataframe\">\n",
       "  <thead>\n",
       "    <tr style=\"text-align: right;\">\n",
       "      <th></th>\n",
       "      <th>Id_transaksi</th>\n",
       "      <th>nama_pegawai</th>\n",
       "      <th>nama_pembeli</th>\n",
       "      <th>nama_barang</th>\n",
       "      <th>stok_dibeli</th>\n",
       "      <th>total_harga</th>\n",
       "    </tr>\n",
       "  </thead>\n",
       "  <tbody>\n",
       "    <tr>\n",
       "      <th>0</th>\n",
       "      <td>1</td>\n",
       "      <td>Lila</td>\n",
       "      <td>Adi</td>\n",
       "      <td>RInso</td>\n",
       "      <td>1</td>\n",
       "      <td>10000</td>\n",
       "    </tr>\n",
       "    <tr>\n",
       "      <th>1</th>\n",
       "      <td>2</td>\n",
       "      <td>Dian</td>\n",
       "      <td>Fika</td>\n",
       "      <td>Sunlight</td>\n",
       "      <td>1</td>\n",
       "      <td>15000</td>\n",
       "    </tr>\n",
       "  </tbody>\n",
       "</table>\n",
       "</div>"
      ],
      "text/plain": [
       "   Id_transaksi nama_pegawai nama_pembeli nama_barang  stok_dibeli  \\\n",
       "0             1         Lila          Adi       RInso            1   \n",
       "1             2         Dian         Fika    Sunlight            1   \n",
       "\n",
       "   total_harga  \n",
       "0        10000  \n",
       "1        15000  "
      ]
     },
     "execution_count": 103,
     "metadata": {},
     "output_type": "execute_result"
    }
   ],
   "source": [
    "tabel_hasil_transaksi_2 = pd.read_sql_query(query_transaksi_2, con)\n",
    "print(\"Beli Offline\")\n",
    "tabel_hasil_transaksi_2"
   ]
  },
  {
   "cell_type": "code",
   "execution_count": null,
   "metadata": {},
   "outputs": [],
   "source": []
  }
 ],
 "metadata": {
  "kernelspec": {
   "display_name": "Python 3",
   "language": "python",
   "name": "python3"
  },
  "language_info": {
   "codemirror_mode": {
    "name": "ipython",
    "version": 3
   },
   "file_extension": ".py",
   "mimetype": "text/x-python",
   "name": "python",
   "nbconvert_exporter": "python",
   "pygments_lexer": "ipython3",
   "version": "3.8.5"
  }
 },
 "nbformat": 4,
 "nbformat_minor": 4
}
